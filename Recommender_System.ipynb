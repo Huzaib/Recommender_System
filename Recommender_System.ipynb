{
 "cells": [
  {
   "cell_type": "code",
   "execution_count": 54,
   "metadata": {},
   "outputs": [],
   "source": [
    "import numpy as np\n",
    "import pandas as pd\n",
    "from scipy.sparse import csr_matrix\n",
    "from sklearn.neighbors import NearestNeighbors\n",
    "from fuzzywuzzy import process;"
   ]
  },
  {
   "cell_type": "code",
   "execution_count": 26,
   "metadata": {},
   "outputs": [],
   "source": [
    "movies = 'movies.csv'\n",
    "ratings = 'ratings.csv'\n",
    "df_movies = pd.read_csv(movies, usecols=['movieId', 'title'], dtype = {'movieId': 'int32', 'title': 'str'})\n",
    "df_ratings = pd.read_csv(ratings, usecols=['userId', 'movieId', 'rating'], dtype = {'movieId': 'int32', 'userId': 'float32',\n",
    "                                                                                    'rating': 'str'})"
   ]
  },
  {
   "cell_type": "code",
   "execution_count": 27,
   "metadata": {},
   "outputs": [
    {
     "data": {
      "text/html": [
       "<div>\n",
       "<style scoped>\n",
       "    .dataframe tbody tr th:only-of-type {\n",
       "        vertical-align: middle;\n",
       "    }\n",
       "\n",
       "    .dataframe tbody tr th {\n",
       "        vertical-align: top;\n",
       "    }\n",
       "\n",
       "    .dataframe thead th {\n",
       "        text-align: right;\n",
       "    }\n",
       "</style>\n",
       "<table border=\"1\" class=\"dataframe\">\n",
       "  <thead>\n",
       "    <tr style=\"text-align: right;\">\n",
       "      <th></th>\n",
       "      <th>userId</th>\n",
       "      <th>movieId</th>\n",
       "      <th>rating</th>\n",
       "    </tr>\n",
       "  </thead>\n",
       "  <tbody>\n",
       "    <tr>\n",
       "      <th>0</th>\n",
       "      <td>1.0</td>\n",
       "      <td>1</td>\n",
       "      <td>4.0</td>\n",
       "    </tr>\n",
       "    <tr>\n",
       "      <th>1</th>\n",
       "      <td>1.0</td>\n",
       "      <td>3</td>\n",
       "      <td>4.0</td>\n",
       "    </tr>\n",
       "    <tr>\n",
       "      <th>2</th>\n",
       "      <td>1.0</td>\n",
       "      <td>6</td>\n",
       "      <td>4.0</td>\n",
       "    </tr>\n",
       "    <tr>\n",
       "      <th>3</th>\n",
       "      <td>1.0</td>\n",
       "      <td>47</td>\n",
       "      <td>5.0</td>\n",
       "    </tr>\n",
       "    <tr>\n",
       "      <th>4</th>\n",
       "      <td>1.0</td>\n",
       "      <td>50</td>\n",
       "      <td>5.0</td>\n",
       "    </tr>\n",
       "  </tbody>\n",
       "</table>\n",
       "</div>"
      ],
      "text/plain": [
       "   userId  movieId rating\n",
       "0     1.0        1    4.0\n",
       "1     1.0        3    4.0\n",
       "2     1.0        6    4.0\n",
       "3     1.0       47    5.0\n",
       "4     1.0       50    5.0"
      ]
     },
     "execution_count": 27,
     "metadata": {},
     "output_type": "execute_result"
    }
   ],
   "source": [
    "df_ratings.head()"
   ]
  },
  {
   "cell_type": "code",
   "execution_count": 216,
   "metadata": {},
   "outputs": [
    {
     "data": {
      "text/html": [
       "<div>\n",
       "<style scoped>\n",
       "    .dataframe tbody tr th:only-of-type {\n",
       "        vertical-align: middle;\n",
       "    }\n",
       "\n",
       "    .dataframe tbody tr th {\n",
       "        vertical-align: top;\n",
       "    }\n",
       "\n",
       "    .dataframe thead th {\n",
       "        text-align: right;\n",
       "    }\n",
       "</style>\n",
       "<table border=\"1\" class=\"dataframe\">\n",
       "  <thead>\n",
       "    <tr style=\"text-align: right;\">\n",
       "      <th></th>\n",
       "      <th>movieId</th>\n",
       "      <th>title</th>\n",
       "    </tr>\n",
       "  </thead>\n",
       "  <tbody>\n",
       "    <tr>\n",
       "      <th>43</th>\n",
       "      <td>47</td>\n",
       "      <td>Seven (a.k.a. Se7en) (1995)</td>\n",
       "    </tr>\n",
       "  </tbody>\n",
       "</table>\n",
       "</div>"
      ],
      "text/plain": [
       "    movieId                        title\n",
       "43       47  Seven (a.k.a. Se7en) (1995)"
      ]
     },
     "execution_count": 216,
     "metadata": {},
     "output_type": "execute_result"
    }
   ],
   "source": [
    "df_movies[df_movies['movieId']==47]"
   ]
  },
  {
   "cell_type": "code",
   "execution_count": 39,
   "metadata": {},
   "outputs": [
    {
     "data": {
      "text/plain": [
       "array([['4.0', 0, 0, ..., '2.5', '3.0', '5.0'],\n",
       "       [0, 0, 0, ..., '2.0', 0, 0],\n",
       "       ['4.0', 0, 0, ..., '2.0', 0, 0],\n",
       "       ...,\n",
       "       [0, 0, 0, ..., 0, 0, 0],\n",
       "       [0, 0, 0, ..., 0, 0, 0],\n",
       "       [0, 0, 0, ..., 0, 0, 0]], dtype=object)"
      ]
     },
     "execution_count": 39,
     "metadata": {},
     "output_type": "execute_result"
    }
   ],
   "source": [
    "movies_users = df_ratings.pivot(index ='movieId', columns='userId', values='rating').fillna(0)\n",
    " "
   ]
  },
  {
   "cell_type": "code",
   "execution_count": 42,
   "metadata": {},
   "outputs": [],
   "source": [
    "mat_movies_users = csr_matrix(np.array(movies_users.values, dtype = 'float'))"
   ]
  },
  {
   "cell_type": "code",
   "execution_count": 49,
   "metadata": {},
   "outputs": [],
   "source": [
    "model_knn = NearestNeighbors(metric='cosine', algorithm='brute', n_neighbors=20)\n"
   ]
  },
  {
   "cell_type": "code",
   "execution_count": 77,
   "metadata": {},
   "outputs": [
    {
     "name": "stdout",
     "output_type": "stream",
     "text": [
      "Movie Selected:  Toy Story (1995) Index:  0\n",
      "Searching For Recommendations.........\n",
      "[[0.         0.42739874 0.4343632  0.43573831 0.44261183 0.45290409\n",
      "  0.45885465 0.4589107  0.46108723 0.46583124 0.46961865 0.4720232\n",
      "  0.47214083 0.47967548 0.48196726 0.48581831 0.48775438 0.49068283\n",
      "  0.49140738 0.49145545]] [[   0 2353  418  615  224  314  322  910  546  963  968 3189  506  123\n",
      "   257  897  815 1182   31  277]]\n"
     ]
    }
   ],
   "source": [
    "def Recommender(movie_name, data, model, n_recommendations):\n",
    "    model.fit(data)\n",
    "    index = process.extractOne(movie_name, df_movies['title'])[2]\n",
    "    print('Movie Selected: ', df_movies['title'][index], 'Index: ', index)\n",
    "    print('Searching For Recommendations.........')\n",
    "    distances, indices = model.kneighbors(data[index], n_neighbors=n_recommendations)\n",
    "    print(distances, indices)\n",
    "    return indices, distances\n",
    "    \n",
    "indices, distances = Recommender('toy story', mat_movies_users, model_knn, 20)"
   ]
  },
  {
   "cell_type": "code",
   "execution_count": 181,
   "metadata": {},
   "outputs": [],
   "source": [
    "list = pd.DataFrame(data = distances[0][1:], columns=[\"Similarity\"])\n"
   ]
  },
  {
   "cell_type": "code",
   "execution_count": 182,
   "metadata": {},
   "outputs": [],
   "source": [
    "list[\"Movie_Index\"] = indices[0][1:]"
   ]
  },
  {
   "cell_type": "code",
   "execution_count": 207,
   "metadata": {},
   "outputs": [],
   "source": [
    "list = list.sort_values(by='Similarity', ascending=False)"
   ]
  },
  {
   "cell_type": "code",
   "execution_count": 225,
   "metadata": {},
   "outputs": [
    {
     "name": "stdout",
     "output_type": "stream",
     "text": [
      "[0.49145545]\n",
      "Movie: 239    Miracle on 34th Street (1994)\n",
      "Name: title, dtype: object           👉👉👉     Similarity Percentage: [0.49145545]\n",
      "\n",
      "[0.49140738]\n",
      "Movie: 30    Dangerous Minds (1995)\n",
      "Name: title, dtype: object           👉👉👉     Similarity Percentage: [0.49140738]\n",
      "\n",
      "[0.49068283]\n",
      "Movie: Series([], Name: title, dtype: object)           👉👉👉     Similarity Percentage: [0.49068283]\n",
      "\n",
      "[0.48775438]\n",
      "Movie: Series([], Name: title, dtype: object)           👉👉👉     Similarity Percentage: [0.48775438]\n",
      "\n",
      "[0.48581831]\n",
      "Movie: 679    For Whom the Bell Tolls (1943)\n",
      "Name: title, dtype: object           👉👉👉     Similarity Percentage: [0.48581831]\n",
      "\n",
      "[0.48196726]\n",
      "Movie: 221    Just Cause (1995)\n",
      "Name: title, dtype: object           👉👉👉     Similarity Percentage: [0.48196726]\n",
      "\n",
      "[0.47967548]\n",
      "Movie: 107    Chungking Express (Chung Hing sam lam) (1994)\n",
      "Name: title, dtype: object           👉👉👉     Similarity Percentage: [0.47967548]\n",
      "\n",
      "[0.47214083]\n",
      "Movie: 441    Orlando (1992)\n",
      "Name: title, dtype: object           👉👉👉     Similarity Percentage: [0.47214083]\n",
      "\n",
      "[0.4720232]\n",
      "Movie: 2403    My Dog Skip (1999)\n",
      "Name: title, dtype: object           👉👉👉     Similarity Percentage: [0.4720232]\n",
      "\n",
      "[0.46961865]\n",
      "Movie: 741    Night of the Living Dead (1968)\n",
      "Name: title, dtype: object           👉👉👉     Similarity Percentage: [0.46961865]\n",
      "\n",
      "[0.46583124]\n",
      "Movie: 739    Inspector General, The (1949)\n",
      "Name: title, dtype: object           👉👉👉     Similarity Percentage: [0.46583124]\n",
      "\n",
      "[0.46108723]\n",
      "Movie: 478    Super Mario Bros. (1993)\n",
      "Name: title, dtype: object           👉👉👉     Similarity Percentage: [0.46108723]\n",
      "\n",
      "[0.4589107]\n",
      "Movie: 692    Some Like It Hot (1959)\n",
      "Name: title, dtype: object           👉👉👉     Similarity Percentage: [0.4589107]\n",
      "\n",
      "[0.45885465]\n",
      "Movie: 281    Swimming with Sharks (1995)\n",
      "Name: title, dtype: object           👉👉👉     Similarity Percentage: [0.45885465]\n",
      "\n",
      "[0.45290409]\n",
      "Movie: 273    Secret of Roan Inish, The (1994)\n",
      "Name: title, dtype: object           👉👉👉     Similarity Percentage: [0.45290409]\n",
      "\n",
      "[0.44261183]\n",
      "Movie: 191    Don Juan DeMarco (1995)\n",
      "Name: title, dtype: object           👉👉👉     Similarity Percentage: [0.44261183]\n",
      "\n",
      "[0.43573831]\n",
      "Movie: 526    Bread and Chocolate (Pane e cioccolata) (1973)\n",
      "Name: title, dtype: object           👉👉👉     Similarity Percentage: [0.43573831]\n",
      "\n",
      "[0.4343632]\n",
      "Movie: 362    Being Human (1993)\n",
      "Name: title, dtype: object           👉👉👉     Similarity Percentage: [0.4343632]\n",
      "\n",
      "[0.42739874]\n",
      "Movie: 1755    Enemy of the State (1998)\n",
      "Name: title, dtype: object           👉👉👉     Similarity Percentage: [0.42739874]\n",
      "\n"
     ]
    }
   ],
   "source": [
    "for x in list['Movie_Index']:\n",
    "    a1 = df_movies['title'][df_movies['movieId']==x]\n",
    "    a2 = list['Similarity'][list['Movie_Index']==x].values\n",
    "    print(f'Movie: {a1}           👉👉👉     Similarity Percentage: {a2}')\n",
    "    print()"
   ]
  },
  {
   "cell_type": "code",
   "execution_count": null,
   "metadata": {},
   "outputs": [],
   "source": []
  },
  {
   "cell_type": "code",
   "execution_count": null,
   "metadata": {},
   "outputs": [],
   "source": []
  }
 ],
 "metadata": {
  "kernelspec": {
   "display_name": "Python 3",
   "language": "python",
   "name": "python3"
  },
  "language_info": {
   "codemirror_mode": {
    "name": "ipython",
    "version": 3
   },
   "file_extension": ".py",
   "mimetype": "text/x-python",
   "name": "python",
   "nbconvert_exporter": "python",
   "pygments_lexer": "ipython3",
   "version": "3.7.6"
  }
 },
 "nbformat": 4,
 "nbformat_minor": 4
}
